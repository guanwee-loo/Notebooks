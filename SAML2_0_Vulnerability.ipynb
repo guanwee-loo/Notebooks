{
  "nbformat": 4,
  "nbformat_minor": 0,
  "metadata": {
    "colab": {
      "name": "SAML2.0 Vulnerability.ipynb",
      "version": "0.3.2",
      "provenance": [],
      "include_colab_link": true
    },
    "kernelspec": {
      "name": "python3",
      "display_name": "Python 3"
    }
  },
  "cells": [
    {
      "cell_type": "markdown",
      "metadata": {
        "id": "view-in-github",
        "colab_type": "text"
      },
      "source": [
        "<a href=\"https://colab.research.google.com/github/guanwee-loo/Notebooks/blob/master/SAML2_0_Vulnerability.ipynb\" target=\"_parent\"><img src=\"https://colab.research.google.com/assets/colab-badge.svg\" alt=\"Open In Colab\"/></a>"
      ]
    },
    {
      "metadata": {
        "id": "2VE_OWRFvLJ9",
        "colab_type": "text"
      },
      "cell_type": "markdown",
      "source": [
        "## SAML 2.0 Authenication Bypass Vulnerability"
      ]
    },
    {
      "metadata": {
        "id": "inqkk-aZSyyF",
        "colab_type": "text"
      },
      "cell_type": "markdown",
      "source": [
        "# Introduction\n",
        "\n",
        "SAML, or Security Assertion Markup Language, is a common standard that lets an identity provider (IdP) communicate securely with a service provider (SP) and pass on a user's authorization. This XML-based communication usually happens through the user's browser, which allows attackers to intercept and modify it. \n",
        "\n",
        "\n"
      ]
    },
    {
      "metadata": {
        "id": "DrMvWfORvd74",
        "colab_type": "text"
      },
      "cell_type": "markdown",
      "source": [
        "#How it works\n",
        "TO be or not to be, thats the question\n",
        "\n",
        "\n",
        "\n",
        "```\n",
        "<SAMLResponse>\n",
        "    <Issuer>https://idp.com/</Issuer>\n",
        "    <Assertion ID=\"_id1234\">\n",
        "        <Subject>\n",
        "            <NameID>user@user.com</NameID> <!-- The authenicated principal -->\n",
        "        </Subject>\n",
        "    </Assertion>\n",
        "    <Signature>\n",
        "        <SignedInfo>\n",
        "            <CanonicalizationMethod Algorithm=\"xml-c14n11\"/>\n",
        "            <Reference URI=\"#_id1234\"/>\n",
        "        </SignedInfo>\n",
        "        <SignatureValue>\n",
        "            some base64 data that represents the signature of the assertion\n",
        "        </SignatureValue>\n",
        "    </Signature>\n",
        "</SAMLResponse>\n",
        "```\n",
        "***This example response omitted a lot of information not relevant to the discussion***\n",
        "\n",
        "\n"
      ]
    },
    {
      "metadata": {
        "id": "IYEsoBBCWWpg",
        "colab_type": "text"
      },
      "cell_type": "markdown",
      "source": [
        "## Code fragment to demomstrate the behavior of extracting the NameID using Python lxml library"
      ]
    },
    {
      "metadata": {
        "id": "NpJQvsK-HZCP",
        "colab_type": "code",
        "outputId": "54940f41-0657-4699-e755-eedd4646c602",
        "colab": {
          "base_uri": "https://localhost:8080/",
          "height": 34
        }
      },
      "cell_type": "code",
      "source": [
        "# Code fragment to demomstrate the behavior of extract the NameID using Python lxml library\n",
        "from defusedxml.lxml import fromstring\n",
        "doc = \"<NameID>user@user.com<!---->.evil.com</NameID>\"\n",
        "data = fromstring(doc)\n",
        "print(data.text) # should return ‘user@user.com.evil.com’ \n",
        "#Instead it becomes 'user@user.com' after parsing. "
      ],
      "execution_count": 0,
      "outputs": [
        {
          "output_type": "stream",
          "text": [
            "user@user.com\n"
          ],
          "name": "stdout"
        }
      ]
    },
    {
      "metadata": {
        "id": "2vBgs3Xm7Wm7",
        "colab_type": "text"
      },
      "cell_type": "markdown",
      "source": [
        "XML Parsling"
      ]
    },
    {
      "metadata": {
        "id": "3VnkYhYzEqtR",
        "colab_type": "code",
        "outputId": "5e39759b-dbc2-45e2-ecaa-32a41ce9dda2",
        "colab": {
          "base_uri": "https://localhost:8080/",
          "height": 35
        }
      },
      "cell_type": "code",
      "source": [
        "print(\"Hello \")"
      ],
      "execution_count": 0,
      "outputs": [
        {
          "output_type": "stream",
          "text": [
            "Hello \n"
          ],
          "name": "stdout"
        }
      ]
    },
    {
      "metadata": {
        "id": "0XL202Zf7bz6",
        "colab_type": "text"
      },
      "cell_type": "markdown",
      "source": [
        "XML Canonicalization\n",
        "\n",
        "**Canonical XML** is a normal form of XML, intended to allow relatively simple comparison of pairs of XML documents for equivalence; for this purpose, the Canonical XML transformation removes non-meaningful differences between the documents making them logically equivalent."
      ]
    },
    {
      "metadata": {
        "id": "TcGWw3NDEsO6",
        "colab_type": "code",
        "outputId": "f56164fb-9f39-4ac2-9366-c409a8d0ae2e",
        "colab": {
          "base_uri": "https://localhost:8080/",
          "height": 35
        }
      },
      "cell_type": "code",
      "source": [
        "print(\"world\")"
      ],
      "execution_count": 0,
      "outputs": [
        {
          "output_type": "stream",
          "text": [
            "world\n"
          ],
          "name": "stdout"
        }
      ]
    },
    {
      "metadata": {
        "id": "0VG1OsPzJ9C7",
        "colab_type": "text"
      },
      "cell_type": "markdown",
      "source": [
        "#Mitigation"
      ]
    },
    {
      "metadata": {
        "id": "tznEVpG01IMA",
        "colab_type": "text"
      },
      "cell_type": "markdown",
      "source": [
        "# References\n",
        "\n",
        "1.   https://duo.com/blog/duo-finds-saml-vulnerabilities-affecting-multiple-implementations\n",
        "2.   https://null-byte.wonderhowto.com/how-to/hack-saml-single-sign-with-burp-suite-0184405\n",
        "3.   http://sso-attacks.org/XML_Signature_Wrapping\n",
        "4.  \n",
        "\n",
        "\n"
      ]
    }
  ]
}