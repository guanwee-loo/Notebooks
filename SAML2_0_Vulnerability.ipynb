{
  "nbformat": 4,
  "nbformat_minor": 0,
  "metadata": {
    "colab": {
      "name": "SAML2.0 Vulnerability.ipynb",
      "version": "0.3.2",
      "provenance": [],
      "include_colab_link": true
    },
    "kernelspec": {
      "name": "python3",
      "display_name": "Python 3"
    }
  },
  "cells": [
    {
      "cell_type": "markdown",
      "metadata": {
        "id": "view-in-github",
        "colab_type": "text"
      },
      "source": [
        "<a href=\"https://colab.research.google.com/github/guanwee-loo/Notebooks/blob/master/SAML2_0_Vulnerability.ipynb\" target=\"_parent\"><img src=\"https://colab.research.google.com/assets/colab-badge.svg\" alt=\"Open In Colab\"/></a>"
      ]
    },
    {
      "metadata": {
        "id": "2VE_OWRFvLJ9",
        "colab_type": "text"
      },
      "cell_type": "markdown",
      "source": [
        " # SAML 2.0 Authentication Bypass Vulnerability\n",
        " "
      ]
    },
    {
      "metadata": {
        "id": "inqkk-aZSyyF",
        "colab_type": "text"
      },
      "cell_type": "markdown",
      "source": [
        "#What is SAML 2.0 ?\n",
        "\n",
        "Security Assertion Markup Language 2.0 (SAML 2.0) is a version of the SAML standard for exchanging authentication and authorization data between security domains. SAML 2.0 is an XML-based protocol that uses security tokens containing assertions to pass information about a **principal** (usually an end user) between a SAML authority, named an **Identity Provider**, and a SAML consumer, named a **Service Provider**. SAML 2.0 enables web-based, cross-domain single sign-on (SSO), which helps reduce the administrative overhead of distributing multiple authentication tokens to the user\n",
        "\n",
        "\n",
        "**When a user is authenticating to a website using SAML, there are always three parties involved:**\n",
        "\n",
        "1.   A user in a web browser\n",
        "2.   A service provider (SP) running a website that user is trying to access (e.g., Salesforce)\n",
        "3.   An identity provider (IdP) that stores and manages the user’s account and credentials (e.g., Okta, OneLogin)\n",
        "\n",
        "\n",
        "\n",
        "\n"
      ]
    },
    {
      "metadata": {
        "id": "ju5YC5KK8NlY",
        "colab_type": "text"
      },
      "cell_type": "markdown",
      "source": [
        "#Web SSO Normal Flow \n",
        "\n",
        "![alt text](https://raw.githubusercontent.com/guanwee-loo/Notebooks/master/WebSSOFlow_normal.PNG)\n",
        "\n",
        "The important concept to grasp is what a SAML Response means to a Service Provider (SP), and how it is processed. \n",
        "\n",
        "Response processing has a lot of subtleties, but a simplified version often looks like:\n",
        "\n",
        "* The user authenticates to an Identity Provider (IdP) which generates a signed SAML Response. The user’s browser then forwards this response along to an SP such as Slack or Github.\n",
        "\n",
        "* The SP validates the SAML Responses signature.\n",
        "\n",
        "* If the signature is valid, a string identifier within the SAML Response (e.g. the NameID) will identify which user to authenticate.\n",
        "\n"
      ]
    },
    {
      "metadata": {
        "id": "9DNQ3CxX94OI",
        "colab_type": "text"
      },
      "cell_type": "markdown",
      "source": [
        "# What is the SAML Authentication Bypass Vulnerability?\n",
        "\n",
        "It is a new vulnerability class that affects SAML-based single sign-on (SSO) systems. This vulnerability can allow an attacker with authenticated access to trick SAML systems into authenticating as a different user without knowledge of the victim user’s password.\n",
        "\n",
        "\n",
        "There are 3 ingredients that enable this vulnerability\n",
        "\n",
        "1. SAML Responses contain strings that identify the authenticating user.\n",
        "\n",
        "2. XML canonicalization  will remove comments (depending on configuration) as part of signature validation, so adding comments to a SAML Response will not invalidate the signature.\n",
        "\n",
        "3. XML text extraction may only return a substring of the text within an XML element when comments are present."
      ]
    },
    {
      "metadata": {
        "id": "lcaE6gWXCrgO",
        "colab_type": "text"
      },
      "cell_type": "markdown",
      "source": [
        "# A simplified SAML Response\n",
        "\n",
        "\n",
        "\n",
        "```\n",
        "<SAMLResponse>\n",
        "    <Issuer>https://idp.com/</Issuer>\n",
        "    <Assertion ID=\"_id1234\">\n",
        "        <Subject>\n",
        "            <NameID>user@user.com</NameID>\n",
        "        </Subject>\n",
        "    </Assertion>\n",
        "    <Signature>\n",
        "        <SignedInfo>\n",
        "            <CanonicalizationMethod Algorithm=\"xml-c14n11\"/>\n",
        "            <Reference URI=\"#_id1234\"/>\n",
        "        </SignedInfo>\n",
        "        <SignatureValue>\n",
        "            some base64 data that represents the signature of the assertion\n",
        "        </SignatureValue>\n",
        "    </Signature>\n",
        "</SAMLResponse>\n",
        "```\n",
        "\n",
        "The two essential elements from the above XML blob are the **Assertion** and the **Signature** element. \n",
        "\n",
        "The Assertion element contains the *NameID* element. which is a string used by the Identity Provider (IdP) to identify and authenticate the user who’s about to be logged in.  A signature is generated for that Assertion element and stored as part of the Signature element and used by the Service Provider (SP) to ensure data integrity and prevent modification of the NameID. \n"
      ]
    },
    {
      "metadata": {
        "id": "vauk4DwPvIKv",
        "colab_type": "text"
      },
      "cell_type": "markdown",
      "source": [
        "# XML Canonicalization (C14N)\n",
        "\n",
        "XML canonicalization allows two logically equivalent XML documents to have the same byte representation. For example:\n",
        "\n",
        "\n",
        "\n",
        "```\n",
        "<NameID>user@user.com.evil.com</NameID>\n",
        "```\n",
        "\n",
        "and\n",
        "\n",
        "\n",
        "```\n",
        "<NameID>user@user.com<!-- this is a comment -->.evil.com</NameID>\n",
        "```\n",
        "\n",
        "These two documents have different byte representations (the second contains a comment) but convey the same information (i.e. they are logically equivalent).\n",
        "\n",
        "Canonicalization is applied to XML elements **prior to signing**. This prevents meaningless differences in the XML document from leading to different digital signatures. \n",
        "In the SAML Response above, the Canonicalization Method specifies which canonicalization method to apply prior to signing the document. The most common algorithm in practice seems to be http://www.w3.org/2001/10/xml-exc-c14n#. \n",
        "\n",
        "\n",
        "**The above behavior (stripping of comments) can be demonstrated by Python’s lxml XML library (used by an open source SAML Python Toolkit  \"python3-saml\") ** \n"
      ]
    },
    {
      "metadata": {
        "id": "HSoneHDIN2A0",
        "colab_type": "code",
        "outputId": "d191bae0-64c8-4bd6-a9d4-f7302b49dcbe",
        "colab": {
          "base_uri": "https://localhost:8080/",
          "height": 34
        }
      },
      "cell_type": "code",
      "source": [
        "from io import BytesIO\n",
        "from io import StringIO\n",
        "\n",
        "import lxml.etree as ET\n",
        "NameID = StringIO(\"<NameID>user@user.com<!-- this is a comment -->.evil.com</NameID>\")\n",
        "tree = ET.parse(NameID)\n",
        "buffer = BytesIO()\n",
        "tree.write_c14n(buffer,with_comments=False) # DO NOT INCLUDE COMMENTS IN THE RESULT\n",
        "print(buffer.getvalue().decode(\"utf-8\"))\n",
        "\n",
        "# Perform signing of NameID after stripping the comments will yield the same signature - THE UNEXPECTED BEHAVIOR!!"
      ],
      "execution_count": 0,
      "outputs": [
        {
          "output_type": "stream",
          "text": [
            "<NameID>user@user.com.evil.com</NameID>\n"
          ],
          "name": "stdout"
        }
      ]
    },
    {
      "metadata": {
        "id": "_rdjcptcN751",
        "colab_type": "text"
      },
      "cell_type": "markdown",
      "source": [
        "The \"workaround' is to use another variant of exc-c14n that has the identifier http://www.w3.org/2001/10/xml-exc-c14n#WithComments. This variation of exc-c14n does not omit comments, so the two XML documents above would not have the same canonical representation though they are logically equivalent.  "
      ]
    },
    {
      "metadata": {
        "id": "4oVDRog0VaDE",
        "colab_type": "code",
        "outputId": "f8d97224-1639-4499-d9df-8e2b1aebdf1c",
        "colab": {
          "base_uri": "https://localhost:8080/",
          "height": 34
        }
      },
      "cell_type": "code",
      "source": [
        "from io import BytesIO\n",
        "from io import StringIO\n",
        "\n",
        "import lxml.etree as ET\n",
        "NameID = StringIO(\"<NameID>user@user.com<!-- this is a comment -->.evil.com</NameID>\")\n",
        "tree = ET.parse(NameID)\n",
        "buffer = BytesIO()\n",
        "tree.write_c14n(buffer,with_comments=True) # INCLUDE COMMENTS IN THE RESULT\n",
        "print(buffer.getvalue().decode(\"utf-8\"))\n",
        "\n",
        "# Perform signing of NameID without stripping the comments will yield different signature - THE EXPECTED BEHAVIOR"
      ],
      "execution_count": 0,
      "outputs": [
        {
          "output_type": "stream",
          "text": [
            "<NameID>user@user.com<!-- this is a comment -->.evil.com</NameID>\n"
          ],
          "name": "stdout"
        }
      ]
    },
    {
      "metadata": {
        "id": "dEhWX5uCY3sN",
        "colab_type": "text"
      },
      "cell_type": "markdown",
      "source": [
        "# XML Text Extraction\n",
        "\n",
        "Another cause of this vulnerability is a subtle and unexpected behavior of XML parsing.\n",
        "\n",
        "Consider the following XML element, NameID:\n",
        "\n",
        "\n",
        "\n",
        "```\n",
        "<NameID>user@user.com<!-- this is a comment -->.evil.com</NameID>\n",
        "```\n",
        "\n",
        "To extract the NameID from that element, in Python,  this can be done as follows:"
      ]
    },
    {
      "metadata": {
        "id": "yCpbf-u-Z2NU",
        "colab_type": "code",
        "outputId": "dc8e805b-dd28-4df0-8023-359fcd288806",
        "colab": {
          "base_uri": "https://localhost:8080/",
          "height": 34
        }
      },
      "cell_type": "code",
      "source": [
        "from defusedxml.lxml import fromstring\n",
        "resp = \"<NameID>user@user.com<!-- this is a comment -->.evil.com</NameID>\"\n",
        "data = fromstring(resp)\n",
        "print(\"Parsed NameID = \" + data.text) \n",
        "# Expecting ‘user@user.com.evil.com’ but..\n",
        "# it becomes 'user@user.com' after parsing. "
      ],
      "execution_count": 0,
      "outputs": [
        {
          "output_type": "stream",
          "text": [
            "Parsed NameID = user@user.com\n"
          ],
          "name": "stdout"
        }
      ]
    },
    {
      "metadata": {
        "id": "c4_bWV_FbJPU",
        "colab_type": "text"
      },
      "cell_type": "markdown",
      "source": [
        "# Given the above 3 conditions,  an attacker can do the following to log in as another user:\n",
        "\n",
        "\n",
        "\n",
        "\n",
        "1.  Log in with a registered account or a compromised account (NameID=user@user.com.evil.com)\n",
        "\n",
        "2.  IdP will sign the assertion containing the NameID = user@user.com.evil.com\n",
        "\n",
        "3.  Intercept the SAML response and modify the Assertion NameID to appear to be \"user@user.com\".\n",
        "\n",
        "     Exploit the XML C14N issue to prevent invalidating of the signature by changing the NameID to :\n",
        "     \n",
        "         user@user.com<!-- this is a comment -->.evil.com\n",
        "         \n",
        "      XML C14N will strip the comments before signing (effectively signing user@user.com.evil.com which is the same as his original login signature).\n",
        "  \n",
        "     \n",
        "4.  SP will mistakenly identify of the attacker as \"user@user.com\" due to unexpected XML textual extraction  behavior while verifying the signature as correct\n",
        "\n"
      ]
    },
    {
      "metadata": {
        "id": "LimajJpz35nI",
        "colab_type": "text"
      },
      "cell_type": "markdown",
      "source": [
        "#Web SSO Attack Flow\n",
        "\n",
        "![alt text](https://raw.githubusercontent.com/guanwee-loo/Notebooks/master/WebSSOFlow_attacker.PNG)"
      ]
    },
    {
      "metadata": {
        "id": "0VG1OsPzJ9C7",
        "colab_type": "text"
      },
      "cell_type": "markdown",
      "source": [
        "#Mitigation Measures\n",
        "\n",
        "\n",
        "* Disabling public registration of user accounts on sensitive networks and vetting each user manually to avoid attackers registering an account on internal networks in the first place.\n",
        "\n",
        "* If this is not possible, network admins can configure a whitelist of accepted email address domain names to limit who can register on the network,\n",
        "\n",
        "* The attack is not possible against accounts protected by two-factor authentication (2FA) solutions.\n",
        "\n",
        "* Other possible remediation are updating libraries to use the C14N method that keeps the comments **prior** to signing OR use the canonicalized XML document **after** signature validation for any processing such as text extraction. This could prevent this vulnerability as well as other vulnerabilities that could be introduced by XML canonicalization issues."
      ]
    },
    {
      "metadata": {
        "id": "tznEVpG01IMA",
        "colab_type": "text"
      },
      "cell_type": "markdown",
      "source": [
        "# References\n",
        "\n",
        "1.   https://en.wikipedia.org/wiki/SAML_2.0\n",
        "2.   https://developer.okta.com/blog/2018/02/27/a-breakdown-of-the-new-saml-authentication-bypass-vulnerability\n",
        "3.   https://duo.com/blog/duo-finds-saml-vulnerabilities-affecting-multiple-implementations\n",
        "4.   https://www.decalage.info/fr/python/lxml-c14n\n",
        "\n",
        "\n"
      ]
    }
  ]
}