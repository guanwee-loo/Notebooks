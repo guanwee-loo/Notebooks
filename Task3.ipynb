{
  "nbformat": 4,
  "nbformat_minor": 0,
  "metadata": {
    "colab": {
      "name": "Task3.ipynb",
      "version": "0.3.2",
      "provenance": [],
      "toc_visible": true,
      "include_colab_link": true
    },
    "kernelspec": {
      "name": "python3",
      "display_name": "Python 3"
    }
  },
  "cells": [
    {
      "cell_type": "markdown",
      "metadata": {
        "id": "view-in-github",
        "colab_type": "text"
      },
      "source": [
        "<a href=\"https://colab.research.google.com/github/guanwee-loo/Notebooks/blob/master/Task3.ipynb\" target=\"_parent\"><img src=\"https://colab.research.google.com/assets/colab-badge.svg\" alt=\"Open In Colab\"/></a>"
      ]
    },
    {
      "metadata": {
        "id": "CG8mnPYcJCUT",
        "colab_type": "text"
      },
      "cell_type": "markdown",
      "source": [
        "# **Customer requirement:**\n",
        "\n",
        "Customer would like to view scan results in a dedicated dashboard.\n",
        "\n",
        "The following workflow is required:\n",
        "\n",
        "Create an account in any on-line repository and upload some vulnerable source code.\n",
        "Create a build flow using a Script (Python 2.7, bash, PERL etc…) with the following steps:\n",
        "a.       Pull source code\n",
        "\n",
        "b.      Initiate Checkmarx scan using CxConsole to upload source code to Checkmarx server and generate XML report.\n",
        "\n",
        "c.       Analyze the XML and create a summary of:\n",
        "            Results per severity\n",
        "            Result per vulnerability\n",
        "            \n",
        "d.      Create a web service that provide scan vulnerabilities data.\n",
        "\n",
        "e.      Consume data from a dedicated dashboard (You may use any Dashboard utility and implement a plug-in or create a web based HTML page that reflects data).\n",
        "\n",
        "\n",
        "\n",
        "Resources: \n",
        "\n",
        "\n",
        "Checkmarx server on cloud @: https://cxprivatecloud.checkmarx.net/Cxwebclient\n",
        "\n",
        "User credentials will be supplied by e-mail.\n",
        "CxConsole (CLI): download available here: https://www.checkmarx.com/plugins/\n",
        "Checkmarx knowledge base center: https://checkmarx.atlassian.net/wiki/display/KC\n",
        "\n",
        "Remarks:\n",
        "\n",
        "1.  The scan script can be written in any common script language e.g: Sh\\Python etc..\n",
        "\n",
        "2. If you need to add custom additional executables please use 1 of the following languages: C++,  Java, Python. Please let me know if you have any other request regarding this requirements.\n",
        "\n",
        "3. Advantage will be given for a solution running on multi-platform.\n",
        "\n",
        "5. Solution artefacts should be delivered in a zip file with ReadMe.txt file explaining how to deploy it.\n",
        "\n",
        "6. Please do not usethe CLI GIT integration option – See online documentation for local projects configuration."
      ]
    },
    {
      "metadata": {
        "id": "Z-jDT9dzP7az",
        "colab_type": "text"
      },
      "cell_type": "markdown",
      "source": [
        "# Checkout code\n",
        "SecurBench-Micro was uploaded to Github"
      ]
    },
    {
      "metadata": {
        "id": "NFUM0_qJJ3fd",
        "colab_type": "code",
        "colab": {}
      },
      "cell_type": "code",
      "source": [
        "! rm -rf /home/*\n",
        "! mkdir /home/task2\n",
        "! git clone https://github.com/guanwee-loo/SecuriBench-Micro-Task2.git /home/task2/\n"
      ],
      "execution_count": 0,
      "outputs": []
    },
    {
      "metadata": {
        "id": "mxGbfWSHVGkz",
        "colab_type": "code",
        "colab": {}
      },
      "cell_type": "code",
      "source": [
        ""
      ],
      "execution_count": 0,
      "outputs": []
    },
    {
      "metadata": {
        "id": "8cbTW5hvQBHi",
        "colab_type": "text"
      },
      "cell_type": "markdown",
      "source": [
        "# Download CLI Plugin"
      ]
    },
    {
      "metadata": {
        "id": "NnP006KkLvWm",
        "colab_type": "code",
        "colab": {}
      },
      "cell_type": "code",
      "source": [
        "! rm -rf /home/CxConsolePlugin-8.80.2.zip\n",
        "! wget https://download.checkmarx.com/8.8.0/Plugins/CxConsolePlugin-8.80.2.zip -P /home"
      ],
      "execution_count": 0,
      "outputs": []
    },
    {
      "metadata": {
        "id": "mAGmYgL4MVpH",
        "colab_type": "code",
        "colab": {}
      },
      "cell_type": "code",
      "source": [
        "! rm -rf /home/CxConsolePlugin-8.80.2\n",
        "! unzip /home/CxConsolePlugin-8.80.2.zip -d /home\n"
      ],
      "execution_count": 0,
      "outputs": []
    },
    {
      "metadata": {
        "id": "u3rhhY2OQH4e",
        "colab_type": "text"
      },
      "cell_type": "markdown",
      "source": [
        "# Execute CLI Plugin"
      ]
    },
    {
      "metadata": {
        "id": "yL2Ugd3sOdjH",
        "colab_type": "code",
        "colab": {}
      },
      "cell_type": "code",
      "source": [
        "! chmod u+x  /home/CxConsolePlugin-8.80.2/runCxConsole.sh\n",
        "! /home/CxConsolePlugin-8.80.2/runCxConsole.sh Scan"
      ],
      "execution_count": 0,
      "outputs": []
    },
    {
      "metadata": {
        "id": "z2G4TpULQNBO",
        "colab_type": "text"
      },
      "cell_type": "markdown",
      "source": [
        "# Initiate Scan"
      ]
    },
    {
      "metadata": {
        "id": "9QEZi-LjM2xU",
        "colab_type": "code",
        "colab": {}
      },
      "cell_type": "code",
      "source": [
        "! chmod u+x  /home/CxConsolePlugin-8.80.2/runCxConsole.sh\n",
        "! /home/CxConsolePlugin-8.80.2/runCxConsole.sh Scan -projectname CxServer/SP/EMEA/checkmarx.com-147/SecuriBench-Micro_Java_lgw -cxserver https://cxprivatecloud.checkmarx.net -cxuser ?? -cxpassword ?? -locationtype folder -locationpath /home/task2/src -reportxml /home/task2/task2.xml -v\n"
      ],
      "execution_count": 0,
      "outputs": []
    },
    {
      "metadata": {
        "id": "ghpJEzgeDUwW",
        "colab_type": "code",
        "colab": {}
      },
      "cell_type": "code",
      "source": [
        "import xml.etree.ElementTree as ET\n",
        "tree = ET.parse('/home/task2/BookStoreJava.xml')\n",
        "root = tree.getroot()\n",
        "for query in root.findall(\"Query\"):\n",
        "  #print(query.items())\n",
        "  #print(query.items()[1])\n",
        "  print(query.get(\"name\"))\n"
      ],
      "execution_count": 0,
      "outputs": []
    },
    {
      "metadata": {
        "id": "SCH4BPq8Tv9d",
        "colab_type": "code",
        "colab": {}
      },
      "cell_type": "code",
      "source": [
        "pip install dash==0.39.0"
      ],
      "execution_count": 0,
      "outputs": []
    }
  ]
}