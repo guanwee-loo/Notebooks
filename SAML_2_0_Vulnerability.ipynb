{
  "nbformat": 4,
  "nbformat_minor": 0,
  "metadata": {
    "colab": {
      "name": "SAML 2.0 Vulnerability.ipynb",
      "version": "0.3.2",
      "provenance": [],
      "include_colab_link": true
    },
    "kernelspec": {
      "name": "python3",
      "display_name": "Python 3"
    }
  },
  "cells": [
    {
      "cell_type": "markdown",
      "metadata": {
        "id": "view-in-github",
        "colab_type": "text"
      },
      "source": [
        "<a href=\"https://colab.research.google.com/github/guanwee-loo/Notebooks/blob/master/SAML_2_0_Vulnerability.ipynb\" target=\"_parent\"><img src=\"https://colab.research.google.com/assets/colab-badge.svg\" alt=\"Open In Colab\"/></a>"
      ]
    },
    {
      "metadata": {
        "id": "4mdmKYYo_7LE",
        "colab_type": "text"
      },
      "cell_type": "markdown",
      "source": [
        "# Create a presentation describing only 1 of the following application vulnerabilities. \n",
        "-\tSession Fixation\n",
        "-\tOpen Redirect\n",
        "-\tXSRF/CSRF\n",
        "-\tAbsolute Path Traversal\n",
        "-\tPrivacy Violation\n",
        "-\tSAML 2.0\n",
        "\n",
        "In your PPT explain how the application could be exploited, why it happens and how it can be mitigated. You can use a diagram is the makes sense. \n",
        "Remark: Power point., limited to 10 slides.\n",
        "Please add use case\\s, code samples, flow chart or any other graphics to stand your points.\n"
      ]
    },
    {
      "metadata": {
        "id": "2VE_OWRFvLJ9",
        "colab_type": "text"
      },
      "cell_type": "markdown",
      "source": [
        " # SAML 2.0 Vulnerabilities\n",
        " "
      ]
    },
    {
      "metadata": {
        "id": "inqkk-aZSyyF",
        "colab_type": "text"
      },
      "cell_type": "markdown",
      "source": [
        "# Introduction\n",
        "\n",
        "SAML, or Security Assertion Markup Language, is a common standard that lets an identity provider (IdP) communicate securely with a service provider (SP) and pass on a user's authorization.  One use case is to use SAML to provide WebSSO. This XML-based communication usually happens through the user's browser, which allows attackers to intercept and modify it. \n",
        "\n",
        "\n",
        "#SSO Flow\n",
        "\n",
        "![alt text](https://raw.githubusercontent.com/guanwee-loo/Notebooks/master/WebSSO_Flow.PNG)\n",
        "\n",
        "![alt text](https://raw.githubusercontent.com/guanwee-loo/Notebooks/master/WebSSO_Flow2.PNG)\n"
      ]
    },
    {
      "metadata": {
        "id": "DrMvWfORvd74",
        "colab_type": "text"
      },
      "cell_type": "markdown",
      "source": [
        "#How it works\n",
        "TO be or not to be, thats the question\n",
        "\n",
        "\n",
        "\n",
        "```\n",
        "<SAMLResponse>\n",
        "    <Issuer>https://idp.com/</Issuer>\n",
        "    <Assertion ID=\"_id1234\">\n",
        "        <Subject>\n",
        "            <NameID>user@user.com</NameID> <!-- The authenicated subject -->\n",
        "        </Subject>\n",
        "    </Assertion>\n",
        "    <Signature>\n",
        "        <SignedInfo>\n",
        "            <CanonicalizationMethod Algorithm=\"xml-c14n11\"/>\n",
        "            <Reference URI=\"#_id1234\"/>\n",
        "        </SignedInfo>\n",
        "        <SignatureValue>\n",
        "            some base64 data that represents the signature of the assertion\n",
        "        </SignatureValue>\n",
        "    </Signature>\n",
        "</SAMLResponse>\n",
        "```\n",
        "***This example response omitted a lot of information not relevant to the discussion***\n",
        "\n",
        "\n"
      ]
    },
    {
      "metadata": {
        "id": "5N0iqKdbBF8-",
        "colab_type": "text"
      },
      "cell_type": "markdown",
      "source": [
        "One vulnerability class that affects SAML-based single sign-on (SSO) systems. This vulnerability can allow an attacker with authenticated access to trick SAML systems into authenticating as a different user without knowledge of the victim user’s password."
      ]
    },
    {
      "metadata": {
        "id": "vauk4DwPvIKv",
        "colab_type": "text"
      },
      "cell_type": "markdown",
      "source": [
        "# XML Parsing Issue"
      ]
    },
    {
      "metadata": {
        "colab_type": "text",
        "id": "e1QsSHRyvh3F"
      },
      "cell_type": "markdown",
      "source": [
        "# XML Digital Signature Issue"
      ]
    },
    {
      "metadata": {
        "id": "IYEsoBBCWWpg",
        "colab_type": "text"
      },
      "cell_type": "markdown",
      "source": [
        "## Code fragment to demomstrate the behavior of extracting the NameID using Python lxml library"
      ]
    },
    {
      "metadata": {
        "id": "NpJQvsK-HZCP",
        "colab_type": "code",
        "outputId": "d97e68ec-153c-4fe5-e018-2e958f53a982",
        "colab": {
          "base_uri": "https://localhost:8080/",
          "height": 72
        }
      },
      "cell_type": "code",
      "source": [
        "# Code fragment to demomstrate the behavior of extraction\n",
        "# the NameID using Python lxml library\n",
        "\n",
        "from defusedxml.lxml import fromstring\n",
        "doc = \"<NameID>user@user.com<!---->.evil.com</NameID>\"\n",
        "print(\"Original NameID = user@user.com.evil.com\")\n",
        "print(\"Tampered NameID = user@user.com<!---->.evil.com\")\n",
        "data = fromstring(doc)\n",
        "print(\"Parsed NameID = \" + data.text) # should return ‘user@user.com.evil.com’ \n",
        "#Instead it becomes 'user@user.com' after parsing. "
      ],
      "execution_count": 60,
      "outputs": [
        {
          "output_type": "stream",
          "text": [
            "Original NameID = user@user.com.evil.com\n",
            "Tampered NameID = user@user.com<!---->.evil.com\n",
            "Parsed NameID = user@user.com\n"
          ],
          "name": "stdout"
        }
      ]
    },
    {
      "metadata": {
        "id": "2vBgs3Xm7Wm7",
        "colab_type": "text"
      },
      "cell_type": "markdown",
      "source": [
        "XML Parsling"
      ]
    },
    {
      "metadata": {
        "id": "3VnkYhYzEqtR",
        "colab_type": "code",
        "colab": {}
      },
      "cell_type": "code",
      "source": [
        "!pip install signxml"
      ],
      "execution_count": 0,
      "outputs": []
    },
    {
      "metadata": {
        "id": "n-3DrQrtojr0",
        "colab_type": "code",
        "colab": {}
      },
      "cell_type": "code",
      "source": [
        "import signxml"
      ],
      "execution_count": 0,
      "outputs": []
    },
    {
      "metadata": {
        "id": "0XL202Zf7bz6",
        "colab_type": "text"
      },
      "cell_type": "markdown",
      "source": [
        "XML Canonicalization\n",
        "\n",
        "**Canonical XML** is a normal form of XML, intended to allow relatively simple comparison of pairs of XML documents for equivalence; for this purpose, the Canonical XML transformation removes non-meaningful differences between the documents making them logically equivalent."
      ]
    },
    {
      "metadata": {
        "id": "0VG1OsPzJ9C7",
        "colab_type": "text"
      },
      "cell_type": "markdown",
      "source": [
        "#Mitigation"
      ]
    },
    {
      "metadata": {
        "id": "soLqs6bivSaF",
        "colab_type": "code",
        "colab": {
          "base_uri": "https://localhost:8080/",
          "height": 54
        },
        "outputId": "598c30ac-55b6-4fbe-f31f-61b35b6c10a6"
      },
      "cell_type": "code",
      "source": [
        "from io import BytesIO\n",
        "\n",
        "import lxml.etree as ET\n",
        "f = StringIO(\"<NameID>user@user.com<!---->.evil.com</NameID>\")\n",
        "tree = ET.parse(f)\n",
        "buffer = BytesIO()\n",
        "tree.write_c14n(buffer,with_comments=False)\n",
        "print(buffer.getvalue().decode(\"utf-8\"))\n",
        "buffer.seek(0)\n",
        "tree.write_c14n(buffer,with_comments=True)\n",
        "print(buffer.getvalue().decode(\"utf-8\"))"
      ],
      "execution_count": 52,
      "outputs": [
        {
          "output_type": "stream",
          "text": [
            "<NameID>user@user.com.evil.com</NameID>\n",
            "<NameID>user@user.com<!---->.evil.com</NameID>\n"
          ],
          "name": "stdout"
        }
      ]
    },
    {
      "metadata": {
        "id": "tznEVpG01IMA",
        "colab_type": "text"
      },
      "cell_type": "markdown",
      "source": [
        "# References\n",
        "\n",
        "1.   https://duo.com/blog/duo-finds-saml-vulnerabilities-affecting-multiple-implementations\n",
        "2.   https://null-byte.wonderhowto.com/how-to/hack-saml-single-sign-with-burp-suite-0184405\n",
        "3.   http://sso-attacks.org/XML_Signature_Wrapping\n",
        "4.   https://www.decalage.info/fr/python/lxml-c14n\n",
        "\n",
        "\n"
      ]
    },
    {
      "metadata": {
        "id": "foAggQj4_2FP",
        "colab_type": "text"
      },
      "cell_type": "markdown",
      "source": [
        ""
      ]
    },
    {
      "metadata": {
        "id": "pTMczHU8_4gQ",
        "colab_type": "text"
      },
      "cell_type": "markdown",
      "source": [
        "# New Section"
      ]
    }
  ]
}